{
 "cells": [
  {
   "cell_type": "code",
   "execution_count": 2,
   "id": "263e8bd6-fd52-4677-8142-538d0f77102b",
   "metadata": {},
   "outputs": [
    {
     "name": "stdin",
     "output_type": "stream",
     "text": [
      "Qual sua altura em cm? 1.72\n",
      "Qual seu peso? 82\n"
     ]
    },
    {
     "name": "stdout",
     "output_type": "stream",
     "text": [
      "Seu IMC é 27.0\n"
     ]
    }
   ],
   "source": [
    "altura = float(input(\"Qual sua altura em cm?\"))\n",
    "peso = float(input(\"Qual seu peso?\"))\n",
    "imc = peso//(altura**2)\n",
    "print(f\"Seu IMC é {imc}\")"
   ]
  },
  {
   "cell_type": "code",
   "execution_count": null,
   "id": "46647ce4-bd60-45fe-a458-859cb2ba88c2",
   "metadata": {},
   "outputs": [],
   "source": []
  }
 ],
 "metadata": {
  "kernelspec": {
   "display_name": "Python 3 (ipykernel)",
   "language": "python",
   "name": "python3"
  },
  "language_info": {
   "codemirror_mode": {
    "name": "ipython",
    "version": 3
   },
   "file_extension": ".py",
   "mimetype": "text/x-python",
   "name": "python",
   "nbconvert_exporter": "python",
   "pygments_lexer": "ipython3",
   "version": "3.11.7"
  }
 },
 "nbformat": 4,
 "nbformat_minor": 5
}
